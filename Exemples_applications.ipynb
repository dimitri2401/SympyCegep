{
 "cells": [
  {
   "cell_type": "code",
   "execution_count": 1,
   "metadata": {},
   "outputs": [
    {
     "name": "stdout",
     "output_type": "stream",
     "text": [
      "IPython console for SymPy 1.13.3 (Python 3.11.3-64-bit) (ground types: python)\n",
      "\n",
      "These commands were executed:\n",
      ">>> from sympy import *\n",
      ">>> x, y, z, t = symbols('x y z t')\n",
      ">>> k, m, n = symbols('k m n', integer=True)\n",
      ">>> f, g, h = symbols('f g h', cls=Function)\n",
      ">>> init_printing()\n",
      "\n",
      "Documentation can be found at https://docs.sympy.org/1.13.3/\n",
      "\n"
     ]
    }
   ],
   "source": [
    "from sympy import *\n",
    "init_session()"
   ]
  },
  {
   "cell_type": "markdown",
   "metadata": {},
   "source": [
    "# Exemple d'applications\n",
    "\n",
    "## Évolution d'une population de goélands\n",
    "À la suite de la construction du métro entre Longueuil et Montréal, l’îles Deslauriers a  été créé dans le fleuve Saint-Laurent. Ce nouvel habitat presque sans prédateur avec de la nourriture à profusion à proximité a offert au Goéland à bec cerclé un milieu pour croître très rapidement. Cette île abrite maintenant la colonie la plus importante de Goélands en Amérique du Nord.\n",
    "\n",
    "On peut construire un modèle simple pour comprendre l’évolution de la population de goélands sur l’île en se basant sur les informations suivantes : un couple de goélands donne naissance en moyenne à 5 œufs par année et a une espérance de vie de 15 ans environ. On suppose que tous les œufs donnent vie à un goéland en bonne santé qui se reproduira l’année suivante.\n",
    "\n",
    "S’il y a 50 goélands sur l’île lors de sa formation (année 0) et qu’ils forment tous des couples, combien y en aura-t-il l’année suivante ?"
   ]
  },
  {
   "cell_type": "code",
   "execution_count": null,
   "metadata": {},
   "outputs": [
    {
     "data": {
      "text/latex": [
       "$\\displaystyle 175.0$"
      ],
      "text/plain": [
       "175.0"
      ]
     },
     "metadata": {},
     "output_type": "display_data"
    }
   ],
   "source": [
    "50+50/2*5"
   ]
  },
  {
   "cell_type": "markdown",
   "metadata": {},
   "source": [
    "Combien y aura-t-il de goélands sur l’île après 3 ans ? "
   ]
  },
  {
   "cell_type": "code",
   "execution_count": null,
   "metadata": {},
   "outputs": [],
   "source": [
    "50*(1+2,5)^3"
   ]
  },
  {
   "cell_type": "markdown",
   "metadata": {},
   "source": [
    "Trouver une fonction 𝑃(𝑡) qui donne le nombre de goélands sur l’île après 𝑡 années et calculer le nombre de goélands après 20 ans."
   ]
  },
  {
   "cell_type": "code",
   "execution_count": null,
   "metadata": {},
   "outputs": [
    {
     "data": {
      "text/latex": [
       "$\\displaystyle 3804791750794.03$"
      ],
      "text/plain": [
       "3804791750794.03"
      ]
     },
     "metadata": {},
     "output_type": "display_data"
    }
   ],
   "source": [
    "P=50*(1+2.5)**t\n",
    "P.subs(t,20)"
   ]
  },
  {
   "cell_type": "markdown",
   "metadata": {},
   "source": [
    "Combien de Goélands y aura-t-il sur l’île à long terme ?\n"
   ]
  },
  {
   "cell_type": "code",
   "execution_count": null,
   "metadata": {},
   "outputs": [
    {
     "data": {
      "text/latex": [
       "$\\displaystyle \\infty$"
      ],
      "text/plain": [
       "∞"
      ]
     },
     "metadata": {},
     "output_type": "display_data"
    }
   ],
   "source": [
    "limit(P,t,oo)\n"
   ]
  },
  {
   "cell_type": "markdown",
   "metadata": {},
   "source": [
    "Est-ce que ce modèle est réaliste ?"
   ]
  },
  {
   "cell_type": "markdown",
   "metadata": {},
   "source": [
    "On veut tenir compte du fait que de la compétition s’installe entre les goélands pour l’accès à la nourriture et les sites de nidifications (les jeunes goélands s’entretuent en raison d’une trop grande densité de nid). On doit donc améliorer le modèle pour que la croissance diminue à partir d’un certain moment.\n",
    "\n",
    "Le modèle logistique est souvent utilisé pour modéliser l’évolution de population animale. Nous prendrons le modèle suivant pour modéliser la population de goélands sur l’île Deslauriers.\n",
    "$$\n",
    "P(t) = \\frac{150000}{1 + 3000e^{-t/2}}\n",
    "$$\n",
    "Calculer le nombre de goélands à la création de l’île selon ce modèle et après 20 ans.\n"
   ]
  },
  {
   "cell_type": "code",
   "execution_count": null,
   "metadata": {},
   "outputs": [
    {
     "data": {
      "text/latex": [
       "$\\displaystyle 49.9833388870377$"
      ],
      "text/plain": [
       "49.9833388870377"
      ]
     },
     "metadata": {},
     "output_type": "display_data"
    }
   ],
   "source": [
    "t=Symbol('t',real=True)\n",
    "P = 150000 / (1 + 3000 * exp(-t / 2))\n",
    "P.subs(t, 0).evalf()"
   ]
  },
  {
   "cell_type": "code",
   "execution_count": null,
   "metadata": {},
   "outputs": [
    {
     "data": {
      "text/latex": [
       "$\\displaystyle 132019.035220971$"
      ],
      "text/plain": [
       "132019.035220971"
      ]
     },
     "metadata": {},
     "output_type": "display_data"
    }
   ],
   "source": [
    "P.subs(t, 20).evalf()"
   ]
  },
  {
   "cell_type": "markdown",
   "metadata": {},
   "source": [
    "Combien de goélands y aura-t-il sur l’île à long terme ?"
   ]
  },
  {
   "cell_type": "code",
   "execution_count": null,
   "metadata": {},
   "outputs": [
    {
     "data": {
      "text/latex": [
       "$\\displaystyle 150000$"
      ],
      "text/plain": [
       "150000"
      ]
     },
     "metadata": {},
     "output_type": "display_data"
    }
   ],
   "source": [
    "limit(P, t, oo)"
   ]
  },
  {
   "cell_type": "markdown",
   "metadata": {},
   "source": [
    "Comment pourrait-on trouver à quel moment la population va dépasser 100 000 individus ?"
   ]
  },
  {
   "cell_type": "code",
   "execution_count": null,
   "metadata": {},
   "outputs": [
    {
     "data": {
      "text/latex": [
       "$\\displaystyle 17.3990294964204$"
      ],
      "text/plain": [
       "17.3990294964204"
      ]
     },
     "metadata": {},
     "output_type": "display_data"
    }
   ],
   "source": [
    "solve(Eq(P,100000),t)[0].evalf()"
   ]
  },
  {
   "cell_type": "markdown",
   "metadata": {},
   "source": [
    "Comment pourrait-on calculer le taux de variation de la population de goélands à la 10e année ?\n"
   ]
  },
  {
   "cell_type": "code",
   "execution_count": null,
   "metadata": {},
   "outputs": [
    {
     "data": {
      "text/latex": [
       "$\\displaystyle \\frac{225000000 e^{- \\frac{t}{2}}}{\\left(1 + 3000 e^{- \\frac{t}{2}}\\right)^{2}}$"
      ],
      "text/plain": [
       "            -t  \n",
       "            ─── \n",
       "             2  \n",
       " 225000000⋅ℯ    \n",
       "────────────────\n",
       "               2\n",
       "⎛          -t ⎞ \n",
       "⎜          ───⎟ \n",
       "⎜           2 ⎟ \n",
       "⎝1 + 3000⋅ℯ   ⎠ "
      ]
     },
     "metadata": {},
     "output_type": "display_data"
    }
   ],
   "source": [
    "P1=P.diff(t)\n",
    "P1"
   ]
  },
  {
   "cell_type": "code",
   "execution_count": null,
   "metadata": {},
   "outputs": [
    {
     "data": {
      "text/latex": [
       "$\\displaystyle \\frac{225000000 e^{\\frac{t}{2}}}{\\left(e^{\\frac{t}{2}} + 3000\\right)^{2}}$"
      ],
      "text/plain": [
       "           t\n",
       "           ─\n",
       "           2\n",
       "225000000⋅ℯ \n",
       "────────────\n",
       "           2\n",
       "⎛ t       ⎞ \n",
       "⎜ ─       ⎟ \n",
       "⎜ 2       ⎟ \n",
       "⎝ℯ  + 3000⎠ "
      ]
     },
     "metadata": {},
     "output_type": "display_data"
    }
   ],
   "source": [
    "P1.simplify()"
   ]
  },
  {
   "cell_type": "code",
   "execution_count": null,
   "metadata": {},
   "outputs": [
    {
     "data": {
      "text/latex": [
       "$\\displaystyle 3368.77100004629$"
      ],
      "text/plain": [
       "3368.77100004629"
      ]
     },
     "metadata": {},
     "output_type": "display_data"
    }
   ],
   "source": [
    "P1.subs(t,10).evalf()\n"
   ]
  },
  {
   "cell_type": "code",
   "execution_count": null,
   "metadata": {},
   "outputs": [
    {
     "data": {
      "text/latex": [
       "$\\displaystyle \\left[ \\right]$"
      ],
      "text/plain": [
       "[]"
      ]
     },
     "metadata": {},
     "output_type": "display_data"
    }
   ],
   "source": [
    "\n",
    "denom = P1.as_numer_denom()[1]\n",
    "solve(denom,t)"
   ]
  },
  {
   "cell_type": "code",
   "execution_count": null,
   "metadata": {},
   "outputs": [
    {
     "data": {
      "text/latex": [
       "$\\displaystyle - \\frac{112500000 e^{- \\frac{t}{2}}}{\\left(1 + 3000 e^{- \\frac{t}{2}}\\right)^{2}} + \\frac{675000000000 e^{- t}}{\\left(1 + 3000 e^{- \\frac{t}{2}}\\right)^{3}}$"
      ],
      "text/plain": [
       "              -t                     \n",
       "              ───                    \n",
       "               2                   -t\n",
       "   112500000⋅ℯ       675000000000⋅ℯ  \n",
       "- ──────────────── + ────────────────\n",
       "                 2                  3\n",
       "  ⎛          -t ⎞    ⎛          -t ⎞ \n",
       "  ⎜          ───⎟    ⎜          ───⎟ \n",
       "  ⎜           2 ⎟    ⎜           2 ⎟ \n",
       "  ⎝1 + 3000⋅ℯ   ⎠    ⎝1 + 3000⋅ℯ   ⎠ "
      ]
     },
     "metadata": {},
     "output_type": "display_data"
    }
   ],
   "source": [
    "P2=P1.diff(t)\n",
    "P2"
   ]
  },
  {
   "cell_type": "code",
   "execution_count": null,
   "metadata": {},
   "outputs": [
    {
     "data": {
      "text/latex": [
       "$\\displaystyle \\log{\\left(9000000 \\right)}$"
      ],
      "text/plain": [
       "log(9000000)"
      ]
     },
     "metadata": {},
     "output_type": "display_data"
    }
   ],
   "source": [
    "point_inflexion=solve(P2,t)[0]\n",
    "point_inflexion"
   ]
  },
  {
   "cell_type": "markdown",
   "metadata": {},
   "source": [
    "## Problème de taux liées\n",
    "Par une journée sans vent, Jack se promène dans une montgolfière. La distante entre la balle et le sol est donnée par 𝑦(𝑡)=90−4,9𝑡^2, où 𝑦 est en mètres et 𝑡, en secondes. L’angle d’élévation du Soleil par rapport au sol est de 40°.\n",
    "Déterminer à quelle vitesse la balle se déplace vers le sol lorsqu’elle est à 40 mètres du sol."
   ]
  },
  {
   "cell_type": "code",
   "execution_count": null,
   "metadata": {},
   "outputs": [
    {
     "data": {
      "text/latex": [
       "$\\displaystyle -19.6$"
      ],
      "text/plain": [
       "-19.6000000000000"
      ]
     },
     "metadata": {},
     "output_type": "display_data"
    }
   ],
   "source": [
    "𝑦=90-4.9*𝑡**2\n",
    "y1=y.diff(t)\n",
    "y1.subs(t,2)    #vitesse après 2 secondes\n"
   ]
  },
  {
   "cell_type": "markdown",
   "metadata": {},
   "source": [
    "Déterminer à quelle vitesse l’ombre de la balle se déplace sur le sol au même moment."
   ]
  },
  {
   "cell_type": "code",
   "execution_count": null,
   "metadata": {},
   "outputs": [
    {
     "data": {
      "text/latex": [
       "$\\displaystyle \\frac{90 - 4.9 t^{2}}{\\tan{\\left(\\frac{2 \\pi}{9} \\right)}}$"
      ],
      "text/plain": [
       "          2\n",
       "90 - 4.9⋅t \n",
       "───────────\n",
       "    ⎛2⋅π⎞  \n",
       " tan⎜───⎟  \n",
       "    ⎝ 9 ⎠  "
      ]
     },
     "metadata": {},
     "output_type": "display_data"
    }
   ],
   "source": [
    "x=y/tan(rad(40))\n",
    "x"
   ]
  },
  {
   "cell_type": "code",
   "execution_count": null,
   "metadata": {},
   "outputs": [
    {
     "data": {
      "text/latex": [
       "$\\displaystyle - \\frac{9.8 t}{\\tan{\\left(\\frac{2 \\pi}{9} \\right)}}$"
      ],
      "text/plain": [
       "-9.8⋅t  \n",
       "────────\n",
       "   ⎛2⋅π⎞\n",
       "tan⎜───⎟\n",
       "   ⎝ 9 ⎠"
      ]
     },
     "metadata": {},
     "output_type": "display_data"
    }
   ],
   "source": [
    "x.diff(t)"
   ]
  },
  {
   "cell_type": "markdown",
   "metadata": {},
   "source": [
    "## Problème d'optimisation en biologie"
   ]
  },
  {
   "cell_type": "code",
   "execution_count": null,
   "metadata": {},
   "outputs": [],
   "source": [
    "n, a, b, theta, D1, D2 = symbols(\"n, a, b, theta, D1, D2\")\n",
    "R= n*(a-b*cot(theta))/(pi*D1**4)+n*b*csc(theta)/(pi*D2**4)\n",
    "R"
   ]
  },
  {
   "cell_type": "code",
   "execution_count": null,
   "metadata": {},
   "outputs": [],
   "source": [
    "R1=simplify(R.diff(theta))\n",
    "R1"
   ]
  },
  {
   "cell_type": "code",
   "execution_count": null,
   "metadata": {},
   "outputs": [],
   "source": [
    "thetac=solve(R1,theta)[1]\n",
    "thetac"
   ]
  },
  {
   "cell_type": "code",
   "execution_count": null,
   "metadata": {},
   "outputs": [],
   "source": [
    "thetac.subs(D1,2**(Rational(1/4))*D2)"
   ]
  }
 ],
 "metadata": {
  "kernelspec": {
   "display_name": "Python 3",
   "language": "python",
   "name": "python3"
  },
  "language_info": {
   "codemirror_mode": {
    "name": "ipython",
    "version": 3
   },
   "file_extension": ".py",
   "mimetype": "text/x-python",
   "name": "python",
   "nbconvert_exporter": "python",
   "pygments_lexer": "ipython3",
   "version": "3.11.3"
  }
 },
 "nbformat": 4,
 "nbformat_minor": 2
}
