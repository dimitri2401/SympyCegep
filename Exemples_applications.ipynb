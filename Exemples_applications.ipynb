{
 "cells": [
  {
   "cell_type": "markdown",
   "metadata": {},
   "source": [
    "# Exemples d'applications en calcul différentiel"
   ]
  },
  {
   "cell_type": "code",
   "execution_count": 25,
   "metadata": {},
   "outputs": [
    {
     "name": "stdout",
     "output_type": "stream",
     "text": [
      "IPython console for SymPy 1.13.3 (Python 3.11.3-64-bit) (ground types: python)\n",
      "\n",
      "These commands were executed:\n",
      ">>> from sympy import *\n",
      ">>> x, y, z, t = symbols('x y z t')\n",
      ">>> k, m, n = symbols('k m n', integer=True)\n",
      ">>> f, g, h = symbols('f g h', cls=Function)\n",
      ">>> init_printing()\n",
      "\n",
      "Documentation can be found at https://docs.sympy.org/1.13.3/\n",
      "\n"
     ]
    }
   ],
   "source": [
    "from sympy import *\n",
    "init_session()"
   ]
  },
  {
   "cell_type": "markdown",
   "metadata": {},
   "source": [
    "## Évolution d'une population de goélands\n",
    "À la suite de la construction du métro entre Longueuil et Montréal, l’île Deslauriers a  été créé dans le fleuve Saint-Laurent. Ce nouvel habitat presque sans prédateur avec de la nourriture à profusion à proximité a offert au Goéland à bec cerclé un milieu pour croître très rapidement. Cette île abrite maintenant la colonie la plus importante de Goélands en Amérique du Nord.\n",
    "\n",
    "On peut construire un modèle simple pour comprendre l’évolution de la population de goélands sur l’île en se basant sur les informations suivantes : un couple de goélands donne naissance en moyenne à 5 œufs par année et a une espérance de vie de 15 ans environ. On suppose que tous les œufs donnent vie à un goéland en bonne santé qui se reproduira l’année suivante.\n",
    "\n",
    "S’il y a 50 goélands sur l’île lors de sa formation (année 0) et qu’ils forment tous des couples, combien y en aura-t-il l’année suivante ?"
   ]
  },
  {
   "cell_type": "code",
   "execution_count": 26,
   "metadata": {},
   "outputs": [
    {
     "data": {
      "image/png": "[encoded data removed]",
      "text/latex": [
       "$\\displaystyle 175.0$"
      ],
      "text/plain": [
       "175.0"
      ]
     },
     "execution_count": 26,
     "metadata": {},
     "output_type": "execute_result"
    }
   ],
   "source": [
    "50+50/2*5"
   ]
  },
  {
   "cell_type": "markdown",
   "metadata": {},
   "source": [
    "Combien y aura-t-il de goélands sur l’île après 3 ans ? "
   ]
  },
  {
   "cell_type": "code",
   "execution_count": 27,
   "metadata": {},
   "outputs": [
    {
     "data": {
      "image/png": "[encoded data removed]",
      "text/latex": [
       "$\\displaystyle 2143.75$"
      ],
      "text/plain": [
       "2143.75"
      ]
     },
     "execution_count": 27,
     "metadata": {},
     "output_type": "execute_result"
    }
   ],
   "source": [
    "50*(1+2.5)**3"
   ]
  },
  {
   "cell_type": "markdown",
   "metadata": {},
   "source": [
    "Trouver une fonction 𝑃(𝑡) qui donne le nombre de goélands sur l’île après 𝑡 années et calculer le nombre de goélands après 20 ans."
   ]
  },
  {
   "cell_type": "code",
   "execution_count": 28,
   "metadata": {},
   "outputs": [
    {
     "data": {
      "image/png": "[encoded data removed]",
      "text/latex": [
       "$\\displaystyle 3804791750794.03$"
      ],
      "text/plain": [
       "3804791750794.03"
      ]
     },
     "execution_count": 28,
     "metadata": {},
     "output_type": "execute_result"
    }
   ],
   "source": [
    "P=50*(1+2.5)**t\n",
    "P.subs(t,20)"
   ]
  },
  {
   "cell_type": "markdown",
   "metadata": {},
   "source": [
    "Combien de Goélands y aura-t-il sur l’île à long terme ?\n"
   ]
  },
  {
   "cell_type": "code",
   "execution_count": 29,
   "metadata": {},
   "outputs": [
    {
     "data": {
      "image/png": "[encoded data removed]",
      "text/latex": [
       "$\\displaystyle \\infty$"
      ],
      "text/plain": [
       "∞"
      ]
     },
     "execution_count": 29,
     "metadata": {},
     "output_type": "execute_result"
    }
   ],
   "source": [
    "limit(P,t,oo)\n"
   ]
  },
  {
   "cell_type": "markdown",
   "metadata": {},
   "source": [
    "On peut déterminer que ce modèle n'est pas réaliste puisque la population de goélands tend vers l'infini."
   ]
  },
  {
   "cell_type": "markdown",
   "metadata": {},
   "source": [
    "On veut tenir compte du fait que de la compétition s’installe entre les goélands pour l’accès à la nourriture et les sites de nidifications (les jeunes goélands s’entretuent en raison d’une trop grande densité de nid). On doit donc améliorer le modèle pour que la croissance diminue à partir d’un certain moment.\n",
    "\n",
    "Le modèle logistique est souvent utilisé pour modéliser l’évolution de population animale. Nous prendrons le modèle suivant pour modéliser la population de goélands sur l’île Deslauriers.\n",
    "$$\n",
    "P(t) = \\frac{150000}{1 + 3000e^{-t/2}}\n",
    "$$\n",
    "Calculer le nombre de goélands à la création de l’île selon ce modèle et après 20 ans.\n"
   ]
  },
  {
   "cell_type": "code",
   "execution_count": null,
   "metadata": {},
   "outputs": [
    {
     "data": {
      "image/png": "[encoded data removed]",
      "text/latex": [
       "$\\displaystyle 49.9833388870377$"
      ],
      "text/plain": [
       "49.9833388870377"
      ]
     },
     "execution_count": 30,
     "metadata": {},
     "output_type": "execute_result"
    }
   ],
   "source": [
    "t=Symbol('t',real=True)\n",
    "P = 150000 / (1 + 3000 * exp(-t / 2))\n",
    "P.subs(t, 0).evalf()   # la méthode .evalf() permet d'évaluer la valeur numérique de l'expression comme la fonction N()"
   ]
  },
  {
   "cell_type": "code",
   "execution_count": 31,
   "metadata": {},
   "outputs": [
    {
     "data": {
      "image/png": "[encoded data removed]",
      "text/latex": [
       "$\\displaystyle 132019.035220971$"
      ],
      "text/plain": [
       "132019.035220971"
      ]
     },
     "execution_count": 31,
     "metadata": {},
     "output_type": "execute_result"
    }
   ],
   "source": [
    "P.subs(t, 20).evalf()"
   ]
  },
  {
   "cell_type": "markdown",
   "metadata": {},
   "source": [
    "Combien de goélands y aura-t-il sur l’île à long terme ?"
   ]
  },
  {
   "cell_type": "code",
   "execution_count": 32,
   "metadata": {},
   "outputs": [
    {
     "data": {
      "image/png": "[encoded data removed]",
      "text/latex": [
       "$\\displaystyle 150000$"
      ],
      "text/plain": [
       "150000"
      ]
     },
     "execution_count": 32,
     "metadata": {},
     "output_type": "execute_result"
    }
   ],
   "source": [
    "limit(P, t, oo)"
   ]
  },
  {
   "cell_type": "markdown",
   "metadata": {},
   "source": [
    "Comment pourrait-on trouver à quel moment la population va dépasser 100 000 individus ?"
   ]
  },
  {
   "cell_type": "code",
   "execution_count": 33,
   "metadata": {},
   "outputs": [
    {
     "data": {
      "image/png": "[encoded data removed]",
      "text/latex": [
       "$\\displaystyle 17.3990294964204$"
      ],
      "text/plain": [
       "17.3990294964204"
      ]
     },
     "execution_count": 33,
     "metadata": {},
     "output_type": "execute_result"
    }
   ],
   "source": [
    "solve(Eq(P,100000),t)[0].evalf()"
   ]
  },
  {
   "cell_type": "markdown",
   "metadata": {},
   "source": [
    "Comment pourrait-on calculer le taux de variation de la population de goélands à la 10e année ?\n"
   ]
  },
  {
   "cell_type": "code",
   "execution_count": 34,
   "metadata": {},
   "outputs": [
    {
     "data": {
      "image/png": "[encoded data removed]",
      "text/latex": [
       "$\\displaystyle \\frac{225000000 e^{- \\frac{t}{2}}}{\\left(1 + 3000 e^{- \\frac{t}{2}}\\right)^{2}}$"
      ],
      "text/plain": [
       "            -t  \n",
       "            ─── \n",
       "             2  \n",
       " 225000000⋅ℯ    \n",
       "────────────────\n",
       "               2\n",
       "⎛          -t ⎞ \n",
       "⎜          ───⎟ \n",
       "⎜           2 ⎟ \n",
       "⎝1 + 3000⋅ℯ   ⎠ "
      ]
     },
     "execution_count": 34,
     "metadata": {},
     "output_type": "execute_result"
    }
   ],
   "source": [
    "P1=P.diff(t)\n",
    "P1"
   ]
  },
  {
   "cell_type": "code",
   "execution_count": 35,
   "metadata": {},
   "outputs": [
    {
     "data": {
      "image/png": "[encoded data removed]",
      "text/latex": [
       "$\\displaystyle \\frac{225000000 e^{\\frac{t}{2}}}{\\left(e^{\\frac{t}{2}} + 3000\\right)^{2}}$"
      ],
      "text/plain": [
       "           t\n",
       "           ─\n",
       "           2\n",
       "225000000⋅ℯ \n",
       "────────────\n",
       "           2\n",
       "⎛ t       ⎞ \n",
       "⎜ ─       ⎟ \n",
       "⎜ 2       ⎟ \n",
       "⎝ℯ  + 3000⎠ "
      ]
     },
     "execution_count": 35,
     "metadata": {},
     "output_type": "execute_result"
    }
   ],
   "source": [
    "P1.simplify()"
   ]
  },
  {
   "cell_type": "code",
   "execution_count": null,
   "metadata": {},
   "outputs": [
    {
     "data": {
      "image/png": "[encoded data removed]",
      "text/latex": [
       "$\\displaystyle 3368.77100004629$"
      ],
      "text/plain": [
       "3368.77100004629"
      ]
     },
     "execution_count": 36,
     "metadata": {},
     "output_type": "execute_result"
    }
   ],
   "source": [
    "P1.subs(t,10).evalf()   \n"
   ]
  },
  {
   "cell_type": "markdown",
   "metadata": {},
   "source": [
    "À quel moment la croissance de la population va-t-elle commencer à diminuer ?"
   ]
  },
  {
   "cell_type": "code",
   "execution_count": 37,
   "metadata": {},
   "outputs": [
    {
     "data": {
      "image/png": "[encoded data removed]",
      "text/latex": [
       "$\\displaystyle - \\frac{112500000 e^{- \\frac{t}{2}}}{\\left(1 + 3000 e^{- \\frac{t}{2}}\\right)^{2}} + \\frac{675000000000 e^{- t}}{\\left(1 + 3000 e^{- \\frac{t}{2}}\\right)^{3}}$"
      ],
      "text/plain": [
       "              -t                     \n",
       "              ───                    \n",
       "               2                   -t\n",
       "   112500000⋅ℯ       675000000000⋅ℯ  \n",
       "- ──────────────── + ────────────────\n",
       "                 2                  3\n",
       "  ⎛          -t ⎞    ⎛          -t ⎞ \n",
       "  ⎜          ───⎟    ⎜          ───⎟ \n",
       "  ⎜           2 ⎟    ⎜           2 ⎟ \n",
       "  ⎝1 + 3000⋅ℯ   ⎠    ⎝1 + 3000⋅ℯ   ⎠ "
      ]
     },
     "execution_count": 37,
     "metadata": {},
     "output_type": "execute_result"
    }
   ],
   "source": [
    "P2=P1.diff(t)\n",
    "P2"
   ]
  },
  {
   "cell_type": "code",
   "execution_count": 38,
   "metadata": {},
   "outputs": [
    {
     "data": {
      "image/png": "[encoded data removed]",
      "text/latex": [
       "$\\displaystyle \\log{\\left(9000000 \\right)}$"
      ],
      "text/plain": [
       "log(9000000)"
      ]
     },
     "execution_count": 38,
     "metadata": {},
     "output_type": "execute_result"
    }
   ],
   "source": [
    "point_inflexion=solve(P2,t)[0]\n",
    "point_inflexion"
   ]
  },
  {
   "cell_type": "code",
   "execution_count": null,
   "metadata": {},
   "outputs": [
    {
     "data": {
      "image/png": "[encoded data removed]",
      "text/latex": [
       "$\\displaystyle 16.0127351353005$"
      ],
      "text/plain": [
       "16.0127351353005"
      ]
     },
     "execution_count": 49,
     "metadata": {},
     "output_type": "execute_result"
    }
   ],
   "source": [
    "N(point_inflexion)"
   ]
  },
  {
   "cell_type": "markdown",
   "metadata": {},
   "source": [
    "## Problème de taux liés\n",
    "Par une journée sans vent, Jack se promène dans une montgolfière. La distante entre la balle et le sol est donnée par 𝑦(𝑡)=90−4,9𝑡^2, où 𝑦 est en mètres et 𝑡, en secondes. L’angle d’élévation du Soleil par rapport au sol est de 40°.\n",
    "Déterminer à quelle vitesse la balle se déplace vers le sol lorsqu’elle est à 40 mètres du sol."
   ]
  },
  {
   "cell_type": "code",
   "execution_count": 39,
   "metadata": {},
   "outputs": [
    {
     "data": {
      "image/png": "[encoded data removed]",
      "text/latex": [
       "$\\displaystyle \\left[ -3.1943828249997, \\  3.1943828249997\\right]$"
      ],
      "text/plain": [
       "[-3.1943828249997, 3.1943828249997]"
      ]
     },
     "execution_count": 39,
     "metadata": {},
     "output_type": "execute_result"
    }
   ],
   "source": [
    "𝑦=90-4.9*𝑡**2\n",
    "t1=solve(𝑦-40,t)   #temps lorsque la hauteur est de 40 m   \n",
    "t1 #on prend la valeur positive\n"
   ]
  },
  {
   "cell_type": "code",
   "execution_count": 40,
   "metadata": {},
   "outputs": [
    {
     "data": {
      "image/png": "[encoded data removed]",
      "text/latex": [
       "$\\displaystyle -31.3049516849971$"
      ],
      "text/plain": [
       "-31.3049516849971"
      ]
     },
     "execution_count": 40,
     "metadata": {},
     "output_type": "execute_result"
    }
   ],
   "source": [
    "y1=y.diff(t)    #vitesse\n",
    "y1.subs(t,t1[1])    #vitesse lorsque la hauteur est de 40 m"
   ]
  },
  {
   "cell_type": "markdown",
   "metadata": {},
   "source": [
    "Déterminer à quelle vitesse l’ombre de la balle se déplace sur le sol au même moment."
   ]
  },
  {
   "cell_type": "code",
   "execution_count": 41,
   "metadata": {},
   "outputs": [
    {
     "data": {
      "image/png": "[encoded data removed]",
      "text/latex": [
       "$\\displaystyle \\frac{90 - 4.9 t^{2}}{\\tan{\\left(\\frac{2 \\pi}{9} \\right)}}$"
      ],
      "text/plain": [
       "          2\n",
       "90 - 4.9⋅t \n",
       "───────────\n",
       "    ⎛2⋅π⎞  \n",
       " tan⎜───⎟  \n",
       "    ⎝ 9 ⎠  "
      ]
     },
     "execution_count": 41,
     "metadata": {},
     "output_type": "execute_result"
    }
   ],
   "source": [
    "x=y/tan(rad(40))    #position de l'ombre au sol par rapport au point directement sous la montgolfière\n",
    "x"
   ]
  },
  {
   "cell_type": "code",
   "execution_count": 42,
   "metadata": {},
   "outputs": [
    {
     "data": {
      "image/png": "[encoded data removed]",
      "text/latex": [
       "$\\displaystyle - \\frac{9.8 t}{\\tan{\\left(\\frac{2 \\pi}{9} \\right)}}$"
      ],
      "text/plain": [
       "-9.8⋅t  \n",
       "────────\n",
       "   ⎛2⋅π⎞\n",
       "tan⎜───⎟\n",
       "   ⎝ 9 ⎠"
      ]
     },
     "execution_count": 42,
     "metadata": {},
     "output_type": "execute_result"
    }
   ],
   "source": [
    "x1=x.diff(t)   #vitesse de l'ombre\n",
    "x1"
   ]
  },
  {
   "cell_type": "code",
   "execution_count": 43,
   "metadata": {},
   "outputs": [
    {
     "data": {
      "image/png": "[encoded data removed]",
      "text/latex": [
       "$\\displaystyle -37.3077886365834$"
      ],
      "text/plain": [
       "-37.3077886365834"
      ]
     },
     "execution_count": 43,
     "metadata": {},
     "output_type": "execute_result"
    }
   ],
   "source": [
    "N(x1.subs(t,t1[1]))  #vitesse de l'ombre lorsque la hauteur est de 40 m"
   ]
  },
  {
   "cell_type": "markdown",
   "metadata": {},
   "source": [
    "## Problème d'optimisation en biologie"
   ]
  },
  {
   "cell_type": "markdown",
   "metadata": {},
   "source": [
    "La loi de Poiseuille est un modèle permettant de déterminer la résistance $ R $ à l’écoulement du sang dans les vaisseaux sanguins à partir du diamètre $D$ du vaisseau, de la longueur du trajet $L $ (tous deux en mètres) et de la viscosité du sang $\\eta$ (qui est une constante dans un corps en santé). La résistance est donnée par :\n",
    "$$R = \\frac{\\eta L}{\\pi D^4}$$\n",
    "Une artériole (petit vaisseau) rejoint une artère selon un angle $ \\theta $ (voir figure).\n",
    "\n",
    "<p align=\"center\">\n",
    "    <img src=\"Figures/Figure_bio1.png\" alt=\"drawing\" width=\"400\"/>\n",
    "</p>\n",
    "\n",
    "Plus la résistance dans les vaisseaux est élevée, plus le cœur doit fournir de l’énergie pour faire circuler le sang. On veut donc trouver l’angle qui minimise la résistance totale à l’écoulement du sang le long de ce trajet. \n",
    "Trouver la solution générale puis évaluer celle-ci si on suppose que le diamètre de l’artère est $\\sqrt[4]{2} $ plus grand que celui de l’artériole.\n"
   ]
  },
  {
   "cell_type": "code",
   "execution_count": 44,
   "metadata": {},
   "outputs": [
    {
     "data": {
      "image/png": "[encoded data removed]",
      "text/latex": [
       "$\\displaystyle \\frac{b n \\csc{\\left(\\theta \\right)}}{\\pi D_{2}^{4}} + \\frac{n \\left(a - b \\cot{\\left(\\theta \\right)}\\right)}{\\pi D_{1}^{4}}$"
      ],
      "text/plain": [
       "b⋅n⋅csc(θ)   n⋅(a - b⋅cot(θ))\n",
       "────────── + ────────────────\n",
       "      4               4      \n",
       "  π⋅D₂            π⋅D₁       "
      ]
     },
     "execution_count": 44,
     "metadata": {},
     "output_type": "execute_result"
    }
   ],
   "source": [
    "n, a, b, theta, D1, D2 = symbols(\"n, a, b, theta, D1, D2\")\n",
    "R= n*(a-b*cot(theta))/(pi*D1**4)+n*b*csc(theta)/(pi*D2**4)\n",
    "R"
   ]
  },
  {
   "cell_type": "code",
   "execution_count": 45,
   "metadata": {},
   "outputs": [
    {
     "data": {
      "image/png": "[encoded data removed]",
      "text/latex": [
       "$\\displaystyle \\frac{b n \\left(- D_{1}^{4} \\cos{\\left(\\theta \\right)} + D_{2}^{4}\\right)}{\\pi D_{1}^{4} D_{2}^{4} \\sin^{2}{\\left(\\theta \\right)}}$"
      ],
      "text/plain": [
       "    ⎛    4            4⎞\n",
       "b⋅n⋅⎝- D₁ ⋅cos(θ) + D₂ ⎠\n",
       "────────────────────────\n",
       "       4   4    2       \n",
       "   π⋅D₁ ⋅D₂ ⋅sin (θ)    "
      ]
     },
     "execution_count": 45,
     "metadata": {},
     "output_type": "execute_result"
    }
   ],
   "source": [
    "R1=simplify(R.diff(theta))\n",
    "R1"
   ]
  },
  {
   "cell_type": "code",
   "execution_count": 46,
   "metadata": {},
   "outputs": [
    {
     "data": {
      "image/png": "[encoded data removed]",
      "text/latex": [
       "$\\displaystyle \\operatorname{acos}{\\left(\\frac{D_{2}^{4}}{D_{1}^{4}} \\right)}$"
      ],
      "text/plain": [
       "    ⎛  4⎞\n",
       "    ⎜D₂ ⎟\n",
       "acos⎜───⎟\n",
       "    ⎜  4⎟\n",
       "    ⎝D₁ ⎠"
      ]
     },
     "execution_count": 46,
     "metadata": {},
     "output_type": "execute_result"
    }
   ],
   "source": [
    "thetac=solve(R1,theta)[1]\n",
    "thetac"
   ]
  },
  {
   "cell_type": "code",
   "execution_count": 47,
   "metadata": {},
   "outputs": [
    {
     "data": {
      "image/png": "[encoded data removed]",
      "text/latex": [
       "$\\displaystyle \\frac{\\pi}{3}$"
      ],
      "text/plain": [
       "π\n",
       "─\n",
       "3"
      ]
     },
     "execution_count": 47,
     "metadata": {},
     "output_type": "execute_result"
    }
   ],
   "source": [
    "thetac.subs(D1,2**(Rational(1/4))*D2)"
   ]
  }
 ],
 "metadata": {
  "kernelspec": {
   "display_name": "Python 3",
   "language": "python",
   "name": "python3"
  },
  "language_info": {
   "codemirror_mode": {
    "name": "ipython",
    "version": 3
   },
   "file_extension": ".py",
   "mimetype": "text/x-python",
   "name": "python",
   "nbconvert_exporter": "python",
   "pygments_lexer": "ipython3",
   "version": "3.10.11"
  }
 },
 "nbformat": 4,
 "nbformat_minor": 2
}
