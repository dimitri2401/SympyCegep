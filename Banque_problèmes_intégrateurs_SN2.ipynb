{
 "cells": [
  {
   "cell_type": "markdown",
   "metadata": {},
   "source": [
    "# Banque de problèmes intégrateurs en calcul différentiel\n",
    "\n",
    "Le chapitre 5 aborde les fonctions exponentielles, logarithmiques et trigonométriques, ainsi que leurs dérivées et limites. Ces outils mathématiques peuvent être appliqués à des situations réelles, comme la modélisation de phénomènes naturels. Chaque problème ci-dessous étudie un phénomène différent en sciences de la nature demandant l'analyse d'une fonction transcendante. Le niveau indiqué fait référence au critère *Complexité et représentativité* de la grille de correction du portfolio."
   ]
  },
  {
   "cell_type": "markdown",
   "metadata": {},
   "source": [
    "## Médicament (niveau satisfaisant)\n",
    "\n",
    "La concentration d'un médicament injecté dans le sang en mg/ml selon le temps écoulé en heure depuis l'injection peut être modélisée par \n",
    "$$C(t)=K(e^{-at}-e^{-bt}),$$\n",
    "où $A$, $b$ et $K$ sont des constantes positives avec $b>a$. \n",
    "\n",
    "a) Quelle sera la concentration initiale de médicament ?  \n",
    "b) À long terme, quel sera la concentration de médicament ?  \n",
    "c) Si $a=1$, $b=2$ et $K=3$, déterminer le moment après l'injection où la concentration sera maximale.  \n",
    "d) Avec les mêmes valeurs, tracer la fonction $C(t)$ sur un intervalle de 5 heures après l'injection.  \n",
    "e) Déterminer après combien de temps la concentration du médicament sera sous $0,01$ mg selon ce modèle.  \n"
   ]
  },
  {
   "cell_type": "markdown",
   "metadata": {},
   "source": [
    "## Écologie (niveau satisfaisant)\n",
    "\n",
    "La population d'une espèce $t$ années après son arrivée sur un territoire est donnée par la fonction \n",
    "$$P(t)=\\frac{2500}{1+3e^{-t+3}}.$$\n",
    "\n",
    "a) Quelle sera la taille initiale de la population ?  \n",
    "b) À long terme, quel sera la taille de la population de cette espèce sur ce territoire ?  \n",
    "c) Tracer la fonction $P(t)$ sur un intervalle de 15 ans après son arrivée.  \n",
    "d) Quelle sera la vitesse de croissance de la population après 6 ans ? Interpréter.  \n",
    "e) Déterminer combien de temps après son arrivée la population de cette espèce augmentera à la vitesse maximale.  "
   ]
  },
  {
   "cell_type": "markdown",
   "metadata": {},
   "source": [
    "## Déforestation (niveau excellent)\n",
    "\n",
    "La déforestation est un contributeur majeur au changement climatique. Les arbres absorbent le dioxyde de carbone (CO2) de l'atmosphère, et leur abattage libère ce CO2, augmentant l'effet de serre. Supposons que la superficie forestière d'une région évolue de la façon suivante :\n",
    "$$\n",
    "S(t) = \\frac{A}{1000+e^{kt}}\n",
    "$$\n",
    "- $ S(t) $ représente la superficie forestière en kilomètres carrés à l'année $ t $\n",
    "- $ A $ et $k$ sont des constantes qui influencent la superficie initiale et la vitesse de déforestation.\n",
    "\n",
    "a) Si on sait que la superficie initiale est de $2000 \\, \\text{km}^2$, déterminer la valeur de $A$ et utiliser cette valeur pour la suite du problème.  \n",
    "b) À long terme, quel sera la superficie forestière de la région ?  \n",
    "c) Si $k = 0,5$, quel est le taux de variation de la superficie forestière après 10 ans? Interpréter ce résultat.  \n",
    "d) Si $k = 0,5$, existe-t-il un point d'inflexion pour la fonction $S(t)$? Si oui, que représente-t-il dans le contexte de la déforestation?  \n",
    "e) Si on prévoit que la déforestation se mettra à ralentir après 40 ans, déterminer la valeur de $k$ qui modélise correctement cette situation et tracer la fonction $S(t)$ sur un horizon de $100$ ans.  \n",
    "f) Sachant que chaque kilomètre carré de forêt absorbe environ 1000 tonnes de CO2 par an, comment le modèle $S(t)$ peut-il être utilisé pour estimer l'augmentation des émissions de CO2 annuelle due à la déforestation au fil du temps?  \n",
    "g) À quel moment l'augmentation des émissions de CO2 annuelle causée par la déforestation sera-t-elle maximale ?"
   ]
  },
  {
   "cell_type": "markdown",
   "metadata": {},
   "source": [
    "## Marée (niveau excellent)\n",
    "\n",
    "La marée pour une journée donnée peut être modélisée par la fonction \n",
    "$$n(t)=\\sin({\\frac{t}{2}})+k\\cdot\\cos({\\frac{t}{2}})+2,$$\n",
    "où $n(t)$ représente le niveau de l'eau (en mètres) par rapport au niveau le plus bas, $t$ le temps écoulé à partir de minuit (en heures) et $k$ une constante qui influence l'amplitude de la marée.\n",
    "\n",
    "a) Déterminer la valeur de $k$ qui fait en sorte que le niveau minimum de l'eau donné par la fonction $n(t)$ soit $0$ puis utiliser cette valeur pour la suite du problème.  \n",
    "b) Tracer la fonction $n(t)$ obtenue en a) sur un intervalle de $24$ heures.  \n",
    "c) Déterminer les heures exactes des marées basses dans une journée selon ce modèle.  \n",
    "d) À quelle vitesse le niveau de l'eau varie-t-il à midi exactement ? Interpréter.  \n",
    "e) Déterminer à quel moment l'eau descend le plus rapidement durant la première moitié de la journée.\n",
    "\n"
   ]
  },
  {
   "cell_type": "markdown",
   "metadata": {},
   "source": [
    "## Désintégration (niveau excellent)\n",
    "\n",
    "Les substances radioactives sont constituées d'atomes ayant des noyaux instables qui se désintègrent spontanément en émettant des particules de matières et de l'énergie. La masse d'une telle substance va donc diminuer avec le temps et peut être calculer à l'aide de la fonction \n",
    "$$m(t)=m_0 \\cdot e^{kt},$$\n",
    "où $m(t)$ représente la masse en mg, $m_0$ la masse initiale de la substance, $t$ le temps écoulé en année et où $k$ est une constante qui dépend de la demi-vie, soit le temps nécessaire à ce que la masse d'une substance radioactive ait diminuée de moitié. Nous étudierons le radium 226 qui a une demi-vie de 1590 ans.\n",
    "\n",
    "a) Déterminer la valeur de $k$ qui fait en sorte que $m(t)$ calcul correctement la masse en fonction du temps d'un échantillon de radium 226, puis utiliser cette valeur pour la suite du problème.  \n",
    "b) Si l'échantillon a une masse initiale de 50 mg, qu'elle sera la masse après 500 ans ?  \n",
    "c) Avec la même masse initiale, déterminer à quel moment celle-ci sera réduite à 10 mg.  \n",
    "d) Quelle sera la masse à long terme de cette échantillon ?  \n",
    "e) Tracer la fonction $m(t)$ pour cette échantillon sur un intervalle permettant de visualiser les réponses obtenues aux questions b) et c).  \n",
    "f) Quelle sera la perte de masse annuelle après 500 ans ?  \n",
    "g) Quelle sera le taux de variation instantanée de la masse après $t$ année ? Ce taux de variation est proportionnel à quoi ? Commenter."
   ]
  }
 ],
 "metadata": {
  "kernelspec": {
   "display_name": "Python 3",
   "language": "python",
   "name": "python3"
  },
  "language_info": {
   "codemirror_mode": {
    "name": "ipython",
    "version": 3
   },
   "file_extension": ".py",
   "mimetype": "text/x-python",
   "name": "python",
   "nbconvert_exporter": "python",
   "pygments_lexer": "ipython3",
   "version": "3.11.3"
  }
 },
 "nbformat": 4,
 "nbformat_minor": 2
}
