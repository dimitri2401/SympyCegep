{
 "cells": [
  {
   "attachments": {},
   "cell_type": "markdown",
   "metadata": {},
   "source": [
    "\n",
    "\n",
    "# SymPy\n",
    "\n",
    "La librairie [SymPy](http://docs.sympy.org/latest/index.html) est un outil très puissant permettant de faire du calcul symbolique. Cela signifie que les objets mathématiques sont représentés exactement, et non approximativement, et que les expressions mathématiques avec des variables non évaluées sont laissées sous forme symbolique."
   ]
  },
  {
   "cell_type": "markdown",
   "metadata": {},
   "source": [
    "## Installation et importation\n",
    "Avant de commencer, assurez vous d’avoir sympy d'installé. Vous pouvez l’installer via pip :\n",
    "```\n",
    "pip install sympy\n",
    "```\n",
    "Nous devons ensuite importer la librairie pour pouvoir l'utiliser. Une façon simple de configurer SymPy et d'avoir déjà certaines variables courantes de définies est d'utiliser la fonction init_session() qui importera automatiquement tout de SymPy, créera des symboles courants, configurera l'affichage graphique et exécutera init_printing() qui permet un affichage agréable de mathématiques."
   ]
  },
  {
   "cell_type": "code",
   "execution_count": null,
   "metadata": {},
   "outputs": [],
   "source": [
    "from sympy import init_session\n",
    "init_session() \n"
   ]
  },
  {
   "cell_type": "markdown",
   "metadata": {},
   "source": [
    "## Manipulations de base\n",
    "Dans le code ci-haut, la commande `symbols()` permet d'indiquer que les différents symboles doivent être traiter comme des variables mathématiques. On peut définir une nouvelle variable de la façon suivante :"
   ]
  },
  {
   "cell_type": "code",
   "execution_count": null,
   "metadata": {},
   "outputs": [],
   "source": [
    "w=symbols('w')"
   ]
  },
  {
   "cell_type": "markdown",
   "metadata": {},
   "source": [
    "Sympy va manipuler les expressions en gardant des valeurs exactes."
   ]
  },
  {
   "cell_type": "code",
   "execution_count": null,
   "metadata": {},
   "outputs": [],
   "source": [
    "sqrt(2)*3/6"
   ]
  },
  {
   "cell_type": "markdown",
   "metadata": {},
   "source": [
    "Attention, si on n'utilise pas une fonction de Sympy pour définir une expression, Python ne la traitera pas de manière exacte."
   ]
  },
  {
   "cell_type": "code",
   "execution_count": null,
   "metadata": {},
   "outputs": [],
   "source": [
    "1/3     "
   ]
  },
  {
   "cell_type": "markdown",
   "metadata": {},
   "source": [
    "Par exemple, pour définir la fraction 1/3 comme un nombre rationnel :"
   ]
  },
  {
   "cell_type": "code",
   "execution_count": null,
   "metadata": {},
   "outputs": [],
   "source": [
    "Rational(1,3)"
   ]
  },
  {
   "cell_type": "markdown",
   "metadata": {},
   "source": [
    "On peut toujours évaluer numériquement une expression à l'aide de la fonction `N(expression)`. On peut ajouter un paramètre optionnel pour déterminer la précision voulu. Ici, on utilise la constante $\\pi$ de Sympy."
   ]
  },
  {
   "cell_type": "code",
   "execution_count": null,
   "metadata": {},
   "outputs": [],
   "source": [
    "N(pi, 50) # pi évalué avec 50 décimales"
   ]
  },
  {
   "cell_type": "markdown",
   "metadata": {},
   "source": [
    "On peut faire des opérations algrébriques à partir des symboles que l'on a définit. La plupart des fonctions mathématiques usuelles sont disponibles dans Sympy."
   ]
  },
  {
   "cell_type": "code",
   "execution_count": null,
   "metadata": {},
   "outputs": [],
   "source": [
    "expression1=((w*x**2-w)/sqrt(2*x+w)+sqrt((2*x+w)))/(w*x**2+w*cos(w)**2+w*sin(w)**2+log(2)) #remarquez que pour faire un exposant, on utilise ** et non ^\n",
    "expression1 #affiche l'expression"
   ]
  },
  {
   "cell_type": "markdown",
   "metadata": {},
   "source": [
    "Par défaut, les fonctions trigonométriques utilisent les radians et la fonction `log`, comme dans la plupart des langages de programmation, est le logarithme naturel."
   ]
  },
  {
   "cell_type": "markdown",
   "metadata": {},
   "source": [
    "Sympy nous permet de réaliser de nombreuses opérations mathématiques qui seraient fastidieuses à faire à la main. Par exemple, on peut simplifier une expression :"
   ]
  },
  {
   "cell_type": "code",
   "execution_count": null,
   "metadata": {},
   "outputs": [],
   "source": [
    "expression1.simplify() #simplifie l'expression"
   ]
  },
  {
   "cell_type": "markdown",
   "metadata": {},
   "source": [
    "On vient d'utiliser `simplify` comme une méthode de notre expression. La plupart des méthodes peuvent aussi être utiliser comme des fonctions."
   ]
  },
  {
   "cell_type": "code",
   "execution_count": null,
   "metadata": {},
   "outputs": [],
   "source": [
    "simplify(expression1) #simplifie l'expression"
   ]
  },
  {
   "cell_type": "markdown",
   "metadata": {},
   "source": [
    "On peut développer ou factoriser une expression :"
   ]
  },
  {
   "cell_type": "code",
   "execution_count": null,
   "metadata": {},
   "outputs": [],
   "source": [
    "polynome1=(2*x+1)**5 #un polyôme de degré 5 factorisé\n",
    "polynome1.expand() #développe le polynôme"
   ]
  },
  {
   "cell_type": "code",
   "execution_count": null,
   "metadata": {},
   "outputs": [],
   "source": [
    "factor(108*w**5-45*w**3+5*w**2+5*w-1) #factorise un polynôme"
   ]
  },
  {
   "cell_type": "markdown",
   "metadata": {},
   "source": [
    "Sympy nous permet également de résoudre des équations. La fonction `solve` permet de trouver les racines (les zéros) d'une expression. Le premier paramètre de la fonction est l'expression dont on cherche les zéros et le second paramètre est la variable pour laquelle on veut résoudre. La ou les solutions retourner sont sous forme de liste."
   ]
  },
  {
   "cell_type": "code",
   "execution_count": null,
   "metadata": {},
   "outputs": [],
   "source": [
    "solve(expression1,w) #résoud l'équation expression1=0 en w"
   ]
  },
  {
   "cell_type": "code",
   "execution_count": null,
   "metadata": {},
   "outputs": [],
   "source": [
    "x1=solve(expression1,x)[0] #résoud l'équation expression1=0 en x et attribue la première solution à x1\n",
    "x1"
   ]
  },
  {
   "cell_type": "markdown",
   "metadata": {},
   "source": [
    "Pour évaluer une expression lorsque les variables qu'elle contient doivent être remplacer par d'autres expressions ou par des valeurs spécifiques, on doit utiliser la méthode `subs()`."
   ]
  },
  {
   "cell_type": "code",
   "execution_count": null,
   "metadata": {},
   "outputs": [],
   "source": [
    "polynome1.subs(x,10) #remplace w par 10 dans le polynôme polynome1"
   ]
  },
  {
   "cell_type": "code",
   "execution_count": null,
   "metadata": {},
   "outputs": [],
   "source": [
    "expression1.subs(w,pi) #remplace w par la constante pi dans l'expression1"
   ]
  },
  {
   "cell_type": "code",
   "execution_count": null,
   "metadata": {},
   "outputs": [],
   "source": [
    "expression1.subs(x,x1) #remplace x par x1 trouver plus haut dans l'expression1"
   ]
  },
  {
   "cell_type": "markdown",
   "metadata": {},
   "source": [
    "On peut aussi résoudre des équations spécifique en définissant une équation à l'aide de la fonction `Eq(coté_gauche,coté_droit)`. En effet, les symboles `=` et `==` ne permettent pas de définir une équation puisqu'ils sont déjà utilisés par Python pour autre chose. C'est une caractéristique de base de la librairie Sympy, elle ne change jamais le comportement habituel du langage Python."
   ]
  },
  {
   "cell_type": "code",
   "execution_count": null,
   "metadata": {},
   "outputs": [],
   "source": [
    "solve(Eq(polynome1,3),x) #résoud l'équation polynome1=2 en x"
   ]
  },
  {
   "cell_type": "markdown",
   "metadata": {},
   "source": [
    "On peut voir dans les solutions précédentes que certaines solutions comportent une variable `i`. C'est que Sympy défini par défaut des variables comme faisant partie des nombres complexes qui sont une généralisation des nombres réels. Comme nous ne traitons pas les nombres complexes dans ce cours, nous pouvons soit ignorer ces solutions, soit définir nos variables comme faisant partie des réels."
   ]
  },
  {
   "cell_type": "code",
   "execution_count": null,
   "metadata": {},
   "outputs": [],
   "source": [
    "u = Symbol('u',real=True) #u sera mainenant traité comme une variable mathématique réelle"
   ]
  },
  {
   "cell_type": "code",
   "execution_count": null,
   "metadata": {},
   "outputs": [],
   "source": [
    "solve(Eq(polynome1.subs(x,u),3),u) #résoud l'équation polynome1=2 après avoir remplacé x par u"
   ]
  },
  {
   "cell_type": "markdown",
   "metadata": {},
   "source": [
    "# Calcul différentiel\n",
    "\n",
    "Regardons maintenant les principales opérations que l'on veut faire en calcul différentiel. "
   ]
  },
  {
   "cell_type": "markdown",
   "metadata": {},
   "source": [
    "## Définition et évaluation de fonction\n",
    "Nous allons travailler avec la fonction : \n",
    "$$\n",
    "f(x) = xe^{x}.\n",
    "$$\n",
    "Commençons par la définir."
   ]
  },
  {
   "cell_type": "code",
   "execution_count": null,
   "metadata": {},
   "outputs": [],
   "source": [
    "f=x*exp(x) #on définit une fonction f à partir de x qui est déja défini comme un symbole. La fonction exponentielle est définie par exp().\n",
    "f"
   ]
  },
  {
   "cell_type": "markdown",
   "metadata": {},
   "source": [
    "On peut évaluer la fonction :"
   ]
  },
  {
   "cell_type": "code",
   "execution_count": null,
   "metadata": {},
   "outputs": [],
   "source": [
    "f.subs(x,2) #on remplace x par 2 dans la fonction f"
   ]
  },
  {
   "cell_type": "markdown",
   "metadata": {},
   "source": [
    "Par défaut, les valeurs renvoyés sont sous formes exactes. On peut avoir une approximation numérique à l'aide de la fonction `N()`."
   ]
  },
  {
   "cell_type": "code",
   "execution_count": null,
   "metadata": {},
   "outputs": [],
   "source": [
    "N(f.subs(x,2)) #on remplace x par 2 dans la fonction f et on évalue le résultat numériquement"
   ]
  },
  {
   "cell_type": "markdown",
   "metadata": {},
   "source": [
    "## Limite\n",
    "On peut évaluer des limites à l'aide de la fonction `limit(fonction,variable,valeur)`. Par exemple, si on veut évaluer\n",
    "$$\n",
    "\\lim_{{x \\to -\\infty}} f(x).\n",
    "$$"
   ]
  },
  {
   "cell_type": "code",
   "execution_count": null,
   "metadata": {},
   "outputs": [],
   "source": [
    "limit(f, x,-oo) #on calcule la limite de f en x tendant vers -infini. "
   ]
  },
  {
   "cell_type": "markdown",
   "metadata": {},
   "source": [
    "On sait donc que l'on est en présence d'une asymptote horizontale en `y=0`. On peut aussi mettre `oo` pour évaluer la limite à l'infini ou une valeur numérique."
   ]
  },
  {
   "cell_type": "code",
   "execution_count": null,
   "metadata": {},
   "outputs": [],
   "source": [
    "limit(f,x,oo) #on calcule la limite de f en x tendant vers +infini"
   ]
  },
  {
   "cell_type": "code",
   "execution_count": null,
   "metadata": {},
   "outputs": [],
   "source": [
    "limit(f,x,3) #on calcule la limite de f en x tendant vers 3"
   ]
  },
  {
   "cell_type": "markdown",
   "metadata": {},
   "source": [
    "On peut également évaluer la limite à gauche ou la limite à droite en ajoutant '+' ou '-' comme quatrième paramètre."
   ]
  },
  {
   "cell_type": "code",
   "execution_count": null,
   "metadata": {},
   "outputs": [],
   "source": [
    "limit(1/x, x, 0,'+')   #on calcule la limite de 1/x en x tendant vers 0 par la droite"
   ]
  },
  {
   "cell_type": "code",
   "execution_count": null,
   "metadata": {},
   "outputs": [],
   "source": [
    "limit(1/x, x, 0, '-')   #on calcule la limite de 1/x en x tendant vers 0 par la gauche"
   ]
  },
  {
   "cell_type": "markdown",
   "metadata": {},
   "source": [
    "## Dérivation\n",
    "On peut facilement dériver une fonction à l'aide de la méthode `diff(variable)`."
   ]
  },
  {
   "cell_type": "code",
   "execution_count": null,
   "metadata": {},
   "outputs": [],
   "source": [
    "f1=f.diff(x) #on définit f1 comme la dérivée de f par rapport à x\n",
    "f1"
   ]
  },
  {
   "cell_type": "markdown",
   "metadata": {},
   "source": [
    "On peut vérifier que cette dérivée correspond bien à la définition de la dérivée à l'aide de la limite."
   ]
  },
  {
   "cell_type": "code",
   "execution_count": null,
   "metadata": {},
   "outputs": [],
   "source": [
    "h=symbols('h') #on définit h comme un symbole\n",
    "limit((f.subs(x,x+h)-f)/h,h,0) #on calcule la dérivée de f en x en utilisant la définition de la dérivée"
   ]
  },
  {
   "cell_type": "markdown",
   "metadata": {},
   "source": [
    "On peut ensuite trouver facilement les zéros de la dérivée."
   ]
  },
  {
   "cell_type": "code",
   "execution_count": null,
   "metadata": {},
   "outputs": [],
   "source": [
    "solve(f1,x) #on résoud l'équation f1=0 en x"
   ]
  },
  {
   "cell_type": "markdown",
   "metadata": {},
   "source": [
    "La méthode `diff(variable,n)` permet également d'obtenir la n-ième dérivée de la fonction. "
   ]
  },
  {
   "cell_type": "code",
   "execution_count": null,
   "metadata": {},
   "outputs": [],
   "source": [
    "f2=f.diff(x,2) #on définit f2 comme la dérivée seconde de f par rapport à x \n",
    "f2"
   ]
  },
  {
   "cell_type": "markdown",
   "metadata": {},
   "source": [
    "## Tracer de courbe\n",
    "\n",
    "Sympy permet également de tracer facilement une fonction à l'aide de la fonction `plot(fonction,(variable,valeur_min,valeur_max))`. L'installation de la librairie matplotlib est recommandée pour avoir un bon affichage des graphiques. La commande `%matplotlib inline` permet d'afficher les graphiques directement dans le notebook."
   ]
  },
  {
   "cell_type": "code",
   "execution_count": null,
   "metadata": {},
   "outputs": [],
   "source": [
    "%matplotlib inline\n",
    "plot(f, (x, -5, 2))  # on trace le graphe de f en x allant de -5 à 2"
   ]
  },
  {
   "cell_type": "code",
   "execution_count": null,
   "metadata": {},
   "outputs": [],
   "source": [
    "plot(f, f1, f2, (x, -5, 2), legend=True)  # on trace le graphe de f, f1 et f2 en x allant de -5 à 2 avec une légende"
   ]
  },
  {
   "cell_type": "markdown",
   "metadata": {},
   "source": [
    "## Dérivation et tracer de courbe implicite\n",
    "Nous terminerons avec un exemple d'utilisation de Sympy pour tracer la tangente à une courbe définie par une équation implicite. Nous utiliserons la fonction `idiff(expression, var_dépendante, var_indépendante)` pour obtenir la dérivée de y par rapport à x. L'expression doit corresponde au côté gauche de l'équation étudier quand on la met en égalité avec 0. Par exemple, le cercle de rayon 1 :\n",
    "$$\n",
    "x^2+y^2=1\n",
    "$$\n",
    "Correspond à l'équation : \n",
    "$$\n",
    "x^2+y^2-1=0\n",
    "$$"
   ]
  },
  {
   "cell_type": "code",
   "execution_count": null,
   "metadata": {},
   "outputs": [],
   "source": [
    "cercle = x**2 + y**2 - 1 #on définit un cercle de rayon 1, \n",
    "cercle"
   ]
  },
  {
   "cell_type": "code",
   "execution_count": null,
   "metadata": {},
   "outputs": [],
   "source": [
    "dy_dx=idiff(cercle,y,x) #on dérive y par rapport à x implicitement à partir de l'équation du cercle\n",
    "dy_dx"
   ]
  },
  {
   "cell_type": "markdown",
   "metadata": {},
   "source": [
    "Trouvons maintenant la valeur de la pente et de l'ordonnée à l'origine des droite tangentes lorsque $x=\\sqrt2/2$."
   ]
  },
  {
   "cell_type": "code",
   "execution_count": null,
   "metadata": {},
   "outputs": [],
   "source": [
    "valeurs_y=solve(cercle.subs(x,sqrt(2)/2),y) #on trouve les valeurs de y pour x=sqrt(2)/2)\n",
    "valeurs_y\n"
   ]
  },
  {
   "cell_type": "code",
   "execution_count": null,
   "metadata": {},
   "outputs": [],
   "source": [
    "pente1=dy_dx.subs(x,sqrt(2)/2).subs(y,valeurs_y[0]) #on remplace x et y par leur valeur pour obtenir la pente au point voulu.\n",
    "pente2=dy_dx.subs(x,sqrt(2)/2).subs(y,valeurs_y[1])\n",
    "ord_origine1=valeurs_y[0]-pente1*sqrt(2)/2 #on trouve l'ordonnée à l'origine pour la première pente\n",
    "ord_origine2=valeurs_y[1]-pente2*sqrt(2)/2 #on trouve l'ordonnée à l'origine pour la deuxième pente"
   ]
  },
  {
   "cell_type": "markdown",
   "metadata": {},
   "source": [
    "On peut maintenant tracer le cercle avec les tangentes. Pour tracer une équation implicite, nous reprenons notre expression en utilisant la fonction `plot_implicit()` avec l'option `show=False` pour permettre d'ajouter plusieurs éléments au même graphique."
   ]
  },
  {
   "cell_type": "code",
   "execution_count": null,
   "metadata": {},
   "outputs": [],
   "source": [
    "plot1=plot_implicit(cercle, (x, -1, 1), (y, -1, 1),show=False) #on trace le cercle sans afficher le graphe\n",
    "plot2=plot(pente1*x+ord_origine1,line_color='red',show=False) #on trace la tangente rouge\n",
    "plot3=plot(pente2*x+ord_origine2,line_color='green',show=False) #on trace la tangente verte\n",
    "plot1.extend(plot2) #on ajoute la tangente rouge au cercle\n",
    "plot1.extend(plot3) #on ajoute la tangente verte au cercle\n",
    "plot1.show() #on affiche le cercle avec les tangentes"
   ]
  }
 ],
 "metadata": {
  "kernelspec": {
   "display_name": "Python 3",
   "language": "python",
   "name": "python3"
  },
  "language_info": {
   "codemirror_mode": {
    "name": "ipython",
    "version": 3
   },
   "file_extension": ".py",
   "mimetype": "text/x-python",
   "name": "python",
   "nbconvert_exporter": "python",
   "pygments_lexer": "ipython3",
   "version": "3.10.11"
  },
  "vscode": {
   "interpreter": {
    "hash": "e1a611bfe618ddced957fae6e2b829e3db4b5e8138885cb3bfce781d42e2449a"
   }
  }
 },
 "nbformat": 4,
 "nbformat_minor": 2
}
